{
 "cells": [
  {
   "cell_type": "markdown",
   "metadata": {},
   "source": [
    "## Instruções\n",
    "- Redes Neuronais + Backpropagation\n",
    "\n",
    "Neste trabalho você irá implementar uma rede neuronal com três camadas:\n",
    "\n",
    "1. Camada de entrada: cada unidade representa uma dimensão do dado de entrada.\n",
    "\n",
    "2. Camada oculta: cada unidade representa uma transformação a partir das unidades de entrada.\n",
    "\n",
    "3. Camada de saída: cada unidade representa a chance da saída correspondente ser a correta.\n",
    "\n",
    "Você irá utilizar a função Sigmóide para obter não-linearidade. Além disso, a função de perda a ser minimizada é a seguinte:\n",
    "\n",
    "![title](formula.jpg)\n",
    "\n",
    "onde m é a quantidade de entradas no treino, K é o número de saídas possíveis,  representa a saída correta de cada classe k em cada entrada (i), e similarmente representa a saída dada pela rede neuronal.\n",
    "\n",
    "O dado a ser utilizado está anexado. Trata-se de 5000 entradas, onde cada entrada refere-se a um dígito escrito manualmente (i.e., MNIST dataset). Dessa forma, m=5000 e K=10. Cada entrada é dada por uma matriz de dimensões 28 por 28, ou seja, um vetor de 784 dimensões. A primeira coluna do arquivo sempre é o rótulo do dígito correto.\n",
    "\n",
    "A rede neuronal a ser implementada deverá ter 784 unidades de entrada e 10 unidades de saída. Em seus experimentos, você deverá variar o número de unidades na camada oculta (25, 50, 100).\n",
    "\n",
    "Além disso, você deverá comparar os seguintes algoritmos de cálculo de gradiente:\n",
    "\n",
    "1. Gradient Descent: o gradiente é calculado após cada época (após as 5000 entradas serem processadas).\n",
    "\n",
    "2. Stochastic Gradient Descent: o gradiente é calculado após cada entrada.\n",
    "\n",
    "3. Mini-Batch: o gradiente é calculado após um certo número de entradas (considere 10 e 50).\n",
    "\n",
    "Por fim, você também deverá variar a taxa de aprendizado: 0.5, 1, 10.\n",
    "\n",
    "O documento a ser entregue deverá apresentar o resultado de seus experimentos. Ou seja, deverá apresentar discussão da variação do número de unidades na camada oculta para cada um dos três algoritmos de cálculo de gradiente. Você deverá apresentar gráficos mostrando a convergência do erro empírico para cada situação (unidades na camada oculta, algoritmo de cálculo do gradiente, taxa de aprendizado). Você deverá deixar claras todas as hipóteses que julgar serem pertinentes."
   ]
  },
  {
   "cell_type": "markdown",
   "metadata": {},
   "source": [
    "# Resolução\n",
    "\n",
    "Para esse trabalho prático utilizarei a biblioteca KERAS para criar o modelo de rede neuronal proposto. Além disso, usaremos a biblioteca numpy e pandas para tratar dados vetoriais e para plotar gráficos dos resultados obtidos.\n",
    "\n",
    "Os comentários e conclusões estão presentes juntamente com o código desse notebook."
   ]
  },
  {
   "cell_type": "code",
   "execution_count": 1,
   "metadata": {},
   "outputs": [
    {
     "name": "stderr",
     "output_type": "stream",
     "text": [
      "/home/lfmendes/data/mestrado/machine-learning/venv/lib/python3.5/site-packages/h5py/__init__.py:36: FutureWarning: Conversion of the second argument of issubdtype from `float` to `np.floating` is deprecated. In future, it will be treated as `np.float64 == np.dtype(float).type`.\n",
      "  from ._conv import register_converters as _register_converters\n",
      "Using TensorFlow backend.\n"
     ]
    }
   ],
   "source": [
    "from keras.models import Sequential\n",
    "from keras.layers import Dense\n",
    "from keras.utils import np_utils\n",
    "from sklearn.model_selection import train_test_split\n",
    "from keras import optimizers\n",
    "import numpy\n",
    "import keras\n",
    "\n",
    "# fix random seed for reproducibility\n",
    "numpy.random.seed(7)"
   ]
  },
  {
   "cell_type": "markdown",
   "metadata": {},
   "source": [
    "## Carregando Arquivo\n",
    "Carregando o arquivo com os 5000 digitos e dividindo em X (matrix com as features) e y (vetor com as respostas)\n",
    "\n",
    "Além disso, definimos o número de categorias(classes) baseados no y e o número de pixels"
   ]
  },
  {
   "cell_type": "code",
   "execution_count": 18,
   "metadata": {},
   "outputs": [
    {
     "name": "stdout",
     "output_type": "stream",
     "text": [
      "Número de entradas: 5000\n",
      "Número de features: 784\n",
      "Número de classes: 10\n"
     ]
    }
   ],
   "source": [
    "# load pima indians dataset\n",
    "dataset = numpy.loadtxt(\"/home/lfmendes/data/mestrado/machine-learning/ml-neural/data_tp1.csv\", delimiter=\",\")\n",
    "\n",
    "# split into input (X) and output (Y) variables\n",
    "X = dataset[:,1:]\n",
    "y = dataset[:,0]\n",
    "\n",
    "y_cat = np_utils.to_categorical(y)\n",
    "num_classes = y_cat.shape[1]\n",
    "\n",
    "num_pixels = 784\n",
    "\n",
    "print(\"Número de entradas: %s\" % (len(y)))\n",
    "print(\"Número de features: %s\" % (len(X[0])))\n",
    "print(\"Número de classes: %s\" % (num_classes))"
   ]
  },
  {
   "cell_type": "markdown",
   "metadata": {},
   "source": [
    "## Código para criação do modelo dado os parâmetros que podem ser variados"
   ]
  },
  {
   "cell_type": "markdown",
   "metadata": {},
   "source": [
    "A função a seguir irá definir o modelo que será utilizado, dando espaço para modificar os parâmetros pedidos, no caso definimos os seguintes parâmetros:\n",
    "\n",
    "* learning_rate - Taxa de aprendizado\n",
    "* neuronios_ocultos - Quantidade de neuronios na camada oculta\n",
    "\n",
    "O modelo a ser cosntruído é composto de\n",
    "* uma camada de entrada com 784 neuronios e utiliza a função de ativação 'sigmoid'.\n",
    "* uma camada oculta com o número de neurônios parametrizada pela função\n",
    "* uma camada de saída com número de neurônios igual ao número de classes, nesse caso utilizamos a função softmax \n",
    "\n",
    "Para fazer a otimização do modelo, estamos usando um SGD com learning rate definido no parâmetro da função. Importante salientar que durante o **fit** se utilizarmos o SGD com batch size igual a 1 ele se comporta como Stochastic Gradient Descent (o gradiente é calculado após cada entrada), se usarmos o batch size igual ou maior ao tamanho do treino ele se comporta como Gradient Descent (o gradiente é calculado após cada época) e nos outros casos ele funciona como Mini-Batch: o gradiente é calculado após um certo número de entradas.\n",
    "\n",
    "A função de perda utilizada é a **categorical_crossentropy** e a métrica utilizada é a **acurácia**.\n",
    "\n",
    "![alt text](rede.png \"Desenho da Rede\")"
   ]
  },
  {
   "cell_type": "code",
   "execution_count": 4,
   "metadata": {},
   "outputs": [],
   "source": [
    "def create_model(learning_rate=0.5,neuronios_ocultos=25):\n",
    "    # create model   \n",
    "    model = Sequential()\n",
    "    model.add(Dense(num_pixels, activation='sigmoid', input_shape=(784,)))\n",
    "    model.add(Dense(neuronios_ocultos, activation='sigmoid'))\n",
    "    model.add(Dense(num_classes, activation='softmax'))\n",
    "    \n",
    "    # Compile model\n",
    "    sgd = optimizers.SGD(lr=learning_rate)\n",
    "    model.compile(loss='categorical_crossentropy', optimizer=sgd, metrics=['accuracy'])    \n",
    "   \n",
    "    return model"
   ]
  },
  {
   "cell_type": "markdown",
   "metadata": {},
   "source": [
    "## Fazendo experimentação\n",
    "Dividindo em treino e teste usando 5 kfolds.\n",
    "\n",
    "Na próxima célula definimos uma função que separa em folds, sendo que para isso ela aleatoriza a entrada e utiliza uma semente aleatória. Além disso, por estarmos utilizando a função **StratifiedKFold** da biblioteca **sklearn** então os folds irão ser criados de forma a respeitar a dsitribuição de classes da entrada\n",
    "\n",
    "Já a função **experimentation()** é a principal desse trabalho, nela fazemos \n",
    "* a divisão de folds da entrada\n",
    "* o tratamento da entrada, passando os valores brutos para floats \n",
    "* transformamos nossa entrada em vetorial ou categórica, isto é, um valor como 2 vira [0,1,0,0,0,0,0,0,0,0]\n",
    "* Criamos o modelo como já definido na função **create_model()**\n",
    "* Fazemos o fit desse modelo utilizando apenas os dados de treino\n",
    "* Calculamos e guardamos a acurácia obtida nos dados de teste"
   ]
  },
  {
   "cell_type": "code",
   "execution_count": 5,
   "metadata": {},
   "outputs": [],
   "source": [
    "from sklearn.model_selection import StratifiedKFold\n",
    "import numpy as np\n",
    "\n",
    "fold_size = 5\n",
    "\n",
    "def get_folds(seed,fold_size=5):    \n",
    "    return StratifiedKFold(n_splits=fold_size, random_state=seed,shuffle=True)\n",
    "\n",
    "def experimentation(batch_size=5000,learning_rate=0.5,neuronio=100,epochs=250,seed=42, verbose=0):    \n",
    "    fold = 0\n",
    "    avg_error = 0.0\n",
    "    avg_acc = 0.0\n",
    "    first = True\n",
    "    accs = []\n",
    "    \n",
    "    skf = get_folds(seed)\n",
    "    \n",
    "    for train_index, test_index in skf.split(X, y):        \n",
    "        if(verbose > 0):          \n",
    "            print(\"Fazendo teste nos fold \" + str(fold))\n",
    "            print(\"batch_size: \" + str(batch_size))\n",
    "            print(\"learning_rate: \" + str(learning_rate))\n",
    "            print(\"neuronio: \" + str(neuronio))\n",
    "            print(\"epochs: \" + str(epochs))\n",
    "\n",
    "        X_train, X_test = X[train_index], X[test_index]\n",
    "        y_train, y_test = y[train_index], y[test_index]\n",
    "\n",
    "        X_train = X_train.reshape(len(train_index), 784)\n",
    "        X_test = X_test.reshape(len(test_index), 784)\n",
    "        X_train = X_train.astype('float32')\n",
    "        X_test = X_test.astype('float32')\n",
    "        X_train /= 255\n",
    "        X_test /= 255\n",
    "        \n",
    "        if(verbose > 0):\n",
    "            print(X_train.shape[0], 'train samples')\n",
    "            print(X_test.shape[0], 'test samples')\n",
    "\n",
    "        y_train = np_utils.to_categorical(y_train)\n",
    "        y_test = np_utils.to_categorical(y_test)   \n",
    "        \n",
    "        if(verbose > 0):\n",
    "            print('Distribuicao no treino: ' + str(y_train.sum(axis=0, dtype='float')))\n",
    "            print('Distribuicao no test: ' + str(y_test.sum(axis=0, dtype='float')))\n",
    "\n",
    "        model=create_model(learning_rate=learning_rate,neuronios_ocultos=neuronio)\n",
    "        \n",
    "        if((verbose > 0) and first):\n",
    "            model.summary()\n",
    "            first = False\n",
    "\n",
    "        # Fit the model\n",
    "        model.fit(X_train, y_train, validation_data=(X_test, y_test),\n",
    "                  epochs=epochs, batch_size=batch_size, verbose=verbose,\n",
    "                  shuffle=True)\n",
    "\n",
    "        # Final evaluation of the model        \n",
    "        if(verbose > 0):\n",
    "            # Avaliando no Treino (verificar caso de overfitting)\n",
    "            scores = model.evaluate(X_train, y_train, verbose=1)\n",
    "            print(\"Resultado no Treino\")\n",
    "            print(\"Baseline Error: %.2f%%\" % (100-scores[1]*100))\n",
    "            print(\"%s: %.2f%%\\n\" % (model.metrics_names[1], scores[1]*100))\n",
    "        \n",
    "        # Avaliando o Teste\n",
    "        scores = model.evaluate(X_test, y_test, verbose=verbose)        \n",
    "        if(verbose > 0):\n",
    "            print(\"Resultado no Teste\")\n",
    "            print('Distribuicao na predicao: ' + str(model.predict(X_test).sum(axis=0, dtype='float')))\n",
    "            print(\"Baseline Error: %.2f%%\" % (100-scores[1]*100))\n",
    "            print(\"%s: %.2f%%\\n\\n\" % (model.metrics_names[1], scores[1]*100))\n",
    "        \n",
    "        avg_acc = avg_acc + scores[1]*100\n",
    "        accs.append(scores[1]*100) \n",
    "\n",
    "        fold=fold+1\n",
    "\n",
    "    print('Acurácia média:' + str(avg_acc/fold_size))\n",
    "    if(verbose > 0):\n",
    "        print(accs)\n",
    "    print('\\n   ---------------------  \\n')\n",
    "    return accs"
   ]
  },
  {
   "cell_type": "markdown",
   "metadata": {},
   "source": [
    "## Definindo parâmetros de teste\n",
    "\n",
    "Para realizar os testes requisitados no trabalho, vamos definir alguams variáveis contendo os valores possíveis para cada parâmetro.\n",
    "\n",
    "* batch size - Variando entre um SGD puro e o Gradient Descent\n",
    "* learning rate - Variando as taxas de aprendizado\n",
    "* neuronios - Variando a quantidade de neurônios na camada oculta\n",
    "* epochs - Variando a quantidade de épocas \n",
    "\n",
    "Além disso, definimos 5 sementes para serem utilizadas durante a experimentação, sendo assim para cada valor de parâmetro teremos 25 resultados sendo 5 de cada fold para cada semente. Isto foi feito para aproximarmos melhor dos valores reais."
   ]
  },
  {
   "cell_type": "code",
   "execution_count": 6,
   "metadata": {},
   "outputs": [],
   "source": [
    "batch_sizes=[1,10,50,5000]\n",
    "learning_rates=[0.5, 1, 10]\n",
    "neuronios=[25,50,100]\n",
    "epochs_variations=[20,100,250,500]\n",
    "\n",
    "# Seeds utilizadas para rodar vários experimentos e termos um valor mais aproximado do \"real\"\n",
    "iterations=[120,1111,422,122,8999]"
   ]
  },
  {
   "cell_type": "markdown",
   "metadata": {},
   "source": [
    "## Visualizando o resultado\n",
    "\n",
    "Para facilitar as conclusões vamos definir uma função que mostra o histograma com as médias para cada parâmetro e o boxplot com esses valores"
   ]
  },
  {
   "cell_type": "code",
   "execution_count": 7,
   "metadata": {},
   "outputs": [],
   "source": [
    "import matplotlib.pyplot as plt\n",
    "import pandas as pd\n",
    "import matplotlib as mpl\n",
    "\n",
    "mpl.rcParams['figure.figsize'] = (12,6)\n",
    "\n",
    "def print_results(results):\n",
    "    df = pd.DataFrame(results)\n",
    "    print(df)\n",
    "    print('Média por coluna')\n",
    "    print(df.mean())\n",
    "    plt.bar(list(df.mean().keys()), df.mean(), color='g')\n",
    "    plt.show()\n",
    "    df.boxplot()"
   ]
  },
  {
   "cell_type": "markdown",
   "metadata": {},
   "source": [
    "## Experimentando com batch size\n",
    "\n",
    "O objetivo desses experimentos é verificar qual o impacto do batch_size no resultado. \n",
    "\n",
    "Nesse caso estamos realizando os seguintes experimentos\n",
    "\n",
    "1. Gradient Descent: o gradiente é calculado após cada época (após as 5000 entradas serem processadas).\n",
    "\n",
    "2. Stochastic Gradient Descent: o gradiente é calculado após cada entrada.\n",
    "\n",
    "3. Mini-Batch: o gradiente é calculado após um certo número de entradas (considere 10 e 50)."
   ]
  },
  {
   "cell_type": "code",
   "execution_count": 9,
   "metadata": {},
   "outputs": [
    {
     "name": "stdout",
     "output_type": "stream",
     "text": [
      "Experimentando com batch size igual a 1\n",
      "\n",
      "\n",
      "Acurácia média:9.640149848973985\n",
      "\n",
      "   ---------------------  \n",
      "\n",
      "{'1': [9.172482552342972, 9.990009990009991, 9.809809814284632, 10.010010014484832, 9.218436873747494]}\n",
      "Experimentando com batch size igual a 10\n",
      "\n",
      "\n",
      "Acurácia média:93.35925914740874\n",
      "\n",
      "   ---------------------  \n",
      "\n",
      "{'1': [9.172482552342972, 9.990009990009991, 9.809809814284632, 10.010010014484832, 9.218436873747494], '10': [93.81854439661248, 94.00599400599401, 93.1931931931932, 92.99299299895942, 92.78557114228457]}\n",
      "Experimentando com batch size igual a 50\n",
      "\n",
      "\n",
      "Acurácia média:92.23961563254606\n",
      "\n",
      "   ---------------------  \n",
      "\n",
      "{'50': [92.62213362891558, 92.3076923076923, 92.1921921921922, 92.09209209805852, 91.98396793587175], '1': [9.172482552342972, 9.990009990009991, 9.809809814284632, 10.010010014484832, 9.218436873747494], '10': [93.81854439661248, 94.00599400599401, 93.1931931931932, 92.99299299895942, 92.78557114228457]}\n",
      "Experimentando com batch size igual a 5000\n",
      "\n",
      "\n",
      "Acurácia média:84.73869326975877\n",
      "\n",
      "   ---------------------  \n",
      "\n",
      "{'50': [92.62213362891558, 92.3076923076923, 92.1921921921922, 92.09209209805852, 91.98396793587175], '1': [9.172482552342972, 9.990009990009991, 9.809809814284632, 10.010010014484832, 9.218436873747494], '10': [93.81854439661248, 94.00599400599401, 93.1931931931932, 92.99299299895942, 92.78557114228457], '5000': [86.64007978448839, 83.4165834165834, 85.28528529721815, 85.18518519711805, 83.16633265338584]}\n"
     ]
    }
   ],
   "source": [
    "batches_results = {}\n",
    "for batch in batch_sizes:\n",
    "    print('Experimentando com batch size igual a ' + str(batch))\n",
    "    print('\\n')\n",
    "    batches_results[str(batch)] = []\n",
    "    #for it in iterations: \n",
    "    batches_results[str(batch)].extend(experimentation(batch_size=batch))\n",
    "    print(batches_results)     "
   ]
  },
  {
   "cell_type": "markdown",
   "metadata": {},
   "source": [
    "Agora para visualizar melhor os resultados vamos plotar um histograma com as médias de cada valor e depois um boxplot para termos uma noção da variação do resultado"
   ]
  },
  {
   "cell_type": "code",
   "execution_count": 10,
   "metadata": {},
   "outputs": [
    {
     "name": "stdout",
     "output_type": "stream",
     "text": [
      "           1         10         50       5000\n",
      "0   9.172483  93.818544  92.622134  86.640080\n",
      "1   9.990010  94.005994  92.307692  83.416583\n",
      "2   9.809810  93.193193  92.192192  85.285285\n",
      "3  10.010010  92.992993  92.092092  85.185185\n",
      "4   9.218437  92.785571  91.983968  83.166333\n",
      "Média por coluna\n",
      "1        9.640150\n",
      "10      93.359259\n",
      "50      92.239616\n",
      "5000    84.738693\n",
      "dtype: float64\n"
     ]
    },
    {
     "data": {
      "image/png": "[encoded data removed]",
      "text/plain": [
       "<Figure size 432x288 with 1 Axes>"
      ]
     },
     "metadata": {},
     "output_type": "display_data"
    },
    {
     "data": {
      "image/png": "[encoded data removed]",
      "text/plain": [
       "<Figure size 432x288 with 1 Axes>"
      ]
     },
     "metadata": {},
     "output_type": "display_data"
    }
   ],
   "source": [
    "print_results(batches_results)"
   ]
  },
  {
   "cell_type": "markdown",
   "metadata": {},
   "source": [
    "## Resultados do experimento com batch size\n",
    "\n",
    "É fácil notar pelo gráfico que batch size que o SGD calculando a cada entrada não tornou possível convergir para uma solução, isto é, o modelo não conseguiu aprender a diferenciar os dígitos e acabou marcando apenas 1 resposta independente da entrada.\n",
    "\n",
    "Já com batch-size de 10,50 ou de 5000 (passando por todas entradas) conseguiram convergir na maioria das vezes. "
   ]
  },
  {
   "cell_type": "markdown",
   "metadata": {},
   "source": [
    "## Experimentando com learning_rates\n",
    "\n",
    "O objetivo desses experimentos é avaliar qual o impacto da taxa de aprendizado.\n",
    "Nesse caso vamos testar as seguintes taxas de aprendizado: [0.5, 1, 10]"
   ]
  },
  {
   "cell_type": "code",
   "execution_count": 7,
   "metadata": {},
   "outputs": [
    {
     "name": "stdout",
     "output_type": "stream",
     "text": [
      "Experimentando com learning rate igual a 0.5\n",
      "\n",
      "\n",
      "\n",
      "Acurácia média:84.5222089343894\n",
      "\n",
      "   ---------------------  \n",
      "\n",
      "Acurácia média:85.14101171976003\n",
      "\n",
      "   ---------------------  \n",
      "\n",
      "Acurácia média:84.98039221688569\n",
      "\n",
      "   ---------------------  \n",
      "\n",
      "Acurácia média:84.72228885411074\n",
      "\n",
      "   ---------------------  \n",
      "\n",
      "Acurácia média:84.44055098722936\n",
      "\n",
      "   ---------------------  \n",
      "\n",
      "{'0.5': [82.45264206783602, 84.61538462729364, 85.58558559155202, 82.48248248546571, 87.4749498997996, 85.04486540378863, 82.31768232959134, 89.08908909505551, 85.08508509701794, 84.16833667334669, 85.044865397846, 84.01598403384754, 85.68568568568568, 84.88488488488488, 85.27054108216433, 82.35294117052796, 85.01498502093952, 84.28428430218358, 84.68468469065111, 87.27454908625157, 83.74875372689837, 86.01398603184954, 82.38238238834882, 82.48248248844891, 87.5751503006012]}\n",
      "Experimentando com learning rate igual a 1\n",
      "\n",
      "\n",
      "\n",
      "Acurácia média:86.08149504004433\n",
      "\n",
      "   ---------------------  \n",
      "\n",
      "Acurácia média:86.77997758844946\n",
      "\n",
      "   ---------------------  \n",
      "\n",
      "Acurácia média:86.34021798917993\n",
      "\n",
      "   ---------------------  \n",
      "\n",
      "Acurácia média:86.2811345581296\n",
      "\n",
      "   ---------------------  \n",
      "\n",
      "Acurácia média:86.64115454850659\n",
      "\n",
      "   ---------------------  \n",
      "\n",
      "{'0.5': [82.45264206783602, 84.61538462729364, 85.58558559155202, 82.48248248546571, 87.4749498997996, 85.04486540378863, 82.31768232959134, 89.08908909505551, 85.08508509701794, 84.16833667334669, 85.044865397846, 84.01598403384754, 85.68568568568568, 84.88488488488488, 85.27054108216433, 82.35294117052796, 85.01498502093952, 84.28428430218358, 84.68468469065111, 87.27454908625157, 83.74875372689837, 86.01398603184954, 82.38238238834882, 82.48248248844891, 87.5751503006012], '1': [85.14456629515408, 85.11488512083962, 86.88688689285333, 85.38538538836859, 87.87575150300601, 87.23828513862367, 85.21478523264875, 89.88988989585633, 86.18618619215262, 85.37074148296593, 87.23828513862367, 84.21578423364775, 88.18818818818819, 85.28528529125171, 86.77354709418837, 84.94516450053791, 86.61338661338661, 85.78578579771865, 86.78678679275322, 87.27454908625157, 84.74576273563495, 87.81218782409684, 87.38738739335382, 86.08608609205251, 87.17434869739479]}\n",
      "Experimentando com learning rate igual a 10\n",
      "\n",
      "\n",
      "\n",
      "Acurácia média:9.880350731444578\n",
      "\n",
      "   ---------------------  \n",
      "\n",
      "Acurácia média:9.800051587431204\n",
      "\n",
      "   ---------------------  \n",
      "\n",
      "Acurácia média:9.840072525523718\n",
      "\n",
      "   ---------------------  \n",
      "\n",
      "Acurácia média:9.299889507967542\n",
      "\n",
      "   ---------------------  \n",
      "\n",
      "Acurácia média:9.619931387234221\n",
      "\n",
      "   ---------------------  \n",
      "\n",
      "{'0.5': [82.45264206783602, 84.61538462729364, 85.58558559155202, 82.48248248546571, 87.4749498997996, 85.04486540378863, 82.31768232959134, 89.08908909505551, 85.08508509701794, 84.16833667334669, 85.044865397846, 84.01598403384754, 85.68568568568568, 84.88488488488488, 85.27054108216433, 82.35294117052796, 85.01498502093952, 84.28428430218358, 84.68468469065111, 87.27454908625157, 83.74875372689837, 86.01398603184954, 82.38238238834882, 82.48248248844891, 87.5751503006012], '1': [85.14456629515408, 85.11488512083962, 86.88688689285333, 85.38538538836859, 87.87575150300601, 87.23828513862367, 85.21478523264875, 89.88988989585633, 86.18618619215262, 85.37074148296593, 87.23828513862367, 84.21578423364775, 88.18818818818819, 85.28528529125171, 86.77354709418837, 84.94516450053791, 86.61338661338661, 85.78578579771865, 86.78678679275322, 87.27454908625157, 84.74576273563495, 87.81218782409684, 87.38738739335382, 86.08608609205251, 87.17434869739479], '10': [9.272183449651047, 10.289710298642055, 9.20920920920921, 10.610610619560257, 10.02004008016032, 9.970089739721534, 9.290709292197919, 10.210210214685034, 9.80980980980981, 9.719438880741716, 10.269192422731804, 9.090909091653405, 9.20920920920921, 10.210210214685034, 10.420841689339143, 9.172482552342972, 9.790209790954103, 9.20920920920921, 9.109109113583932, 9.218436873747494, 9.770687939162743, 9.790209790954103, 9.20920920920921, 9.10910910910911, 10.220440887735936]}\n"
     ]
    }
   ],
   "source": [
    "learning_rates_results = {}\n",
    "for learning_rate in learning_rates:\n",
    "    print('Experimentando com learning rate igual a ' + str(learning_rate))\n",
    "    print('\\n\\n')\n",
    "    learning_rates_results[str(learning_rate)] = []\n",
    "    for it in iterations: \n",
    "        learning_rates_results[str(learning_rate)].extend(experimentation(learning_rate=learning_rate, seed=it))\n",
    "    print(learning_rates_results)     "
   ]
  },
  {
   "cell_type": "code",
   "execution_count": 8,
   "metadata": {},
   "outputs": [
    {
     "name": "stdout",
     "output_type": "stream",
     "text": [
      "          0.5          1         10\n",
      "0   82.452642  85.144566   9.272183\n",
      "1   84.615385  85.114885  10.289710\n",
      "2   85.585586  86.886887   9.209209\n",
      "3   82.482482  85.385385  10.610611\n",
      "4   87.474950  87.875752  10.020040\n",
      "5   85.044865  87.238285   9.970090\n",
      "6   82.317682  85.214785   9.290709\n",
      "7   89.089089  89.889890  10.210210\n",
      "8   85.085085  86.186186   9.809810\n",
      "9   84.168337  85.370741   9.719439\n",
      "10  85.044865  87.238285  10.269192\n",
      "11  84.015984  84.215784   9.090909\n",
      "12  85.685686  88.188188   9.209209\n",
      "13  84.884885  85.285285  10.210210\n",
      "14  85.270541  86.773547  10.420842\n",
      "15  82.352941  84.945165   9.172483\n",
      "16  85.014985  86.613387   9.790210\n",
      "17  84.284284  85.785786   9.209209\n",
      "18  84.684685  86.786787   9.109109\n",
      "19  87.274549  87.274549   9.218437\n",
      "20  83.748754  84.745763   9.770688\n",
      "21  86.013986  87.812188   9.790210\n",
      "22  82.382382  87.387387   9.209209\n",
      "23  82.482482  86.086086   9.109109\n",
      "24  87.575150  87.174349  10.220441\n",
      "Média por coluna\n",
      "0.5    84.761291\n",
      "1      86.424796\n",
      "10      9.688059\n",
      "dtype: float64\n"
     ]
    },
    {
     "data": {
      "image/png": "[encoded data removed]",
      "text/plain": [
       "<Figure size 432x288 with 1 Axes>"
      ]
     },
     "metadata": {},
     "output_type": "display_data"
    },
    {
     "data": {
      "image/png": "[encoded data removed]",
      "text/plain": [
       "<Figure size 432x288 with 1 Axes>"
      ]
     },
     "metadata": {},
     "output_type": "display_data"
    }
   ],
   "source": [
    "print_results(learning_rates_results)"
   ]
  },
  {
   "cell_type": "markdown",
   "metadata": {},
   "source": [
    "## Resultados do experimento com learning rate\n",
    "\n",
    "Os dois gráficos utilizados mostram claramente que o learning rate de 10 não produz bons resultados, sendo que o modelo não consegue aprender e está claramente underfitado.\n",
    "\n",
    "Tanto o learning rate de 0.5 quanto 1 chegam em valores próximos de 84-86% de acurácia."
   ]
  },
  {
   "cell_type": "markdown",
   "metadata": {},
   "source": [
    "## Experimentando com neuronios na camada oculta\n",
    "\n",
    "O objetivo desses experimentos é avaliar qual o impacto do número de neurônios na camada oculta."
   ]
  },
  {
   "cell_type": "code",
   "execution_count": 9,
   "metadata": {},
   "outputs": [
    {
     "name": "stdout",
     "output_type": "stream",
     "text": [
      "Experimentando com learning rate igual a 25\n",
      "\n",
      "\n",
      "\n",
      "Acurácia média:83.46056621080481\n",
      "\n",
      "   ---------------------  \n",
      "\n",
      "Acurácia média:83.38264386149709\n",
      "\n",
      "   ---------------------  \n",
      "\n",
      "Acurácia média:83.56028676821556\n",
      "\n",
      "   ---------------------  \n",
      "\n",
      "Acurácia média:84.56081108423197\n",
      "\n",
      "   ---------------------  \n",
      "\n",
      "Acurácia média:84.24018831302871\n",
      "\n",
      "   ---------------------  \n",
      "\n",
      "{'25': [82.65204386245217, 84.01598402789303, 84.68468469065111, 81.78178179968107, 84.16833667334669, 81.15653040283104, 81.71828173019074, 86.18618619215262, 83.48348349541635, 84.36873748689472, 83.3499501733219, 83.01698302889203, 84.58458458458459, 83.78378378975022, 83.06613226452906, 84.44666001399754, 83.31668334050136, 84.38438440228367, 84.98498499095142, 85.67134267342593, 83.25024927007118, 86.01398603184954, 83.78378379571664, 83.38338338934982, 84.76953907815631]}\n",
      "Experimentando com learning rate igual a 50\n",
      "\n",
      "\n",
      "\n",
      "Acurácia média:84.94061205034349\n",
      "\n",
      "   ---------------------  \n",
      "\n",
      "Acurácia média:85.28097403769982\n",
      "\n",
      "   ---------------------  \n",
      "\n",
      "Acurácia média:84.91987385453893\n",
      "\n",
      "   ---------------------  \n",
      "\n",
      "Acurácia média:85.62071354411829\n",
      "\n",
      "   ---------------------  \n",
      "\n",
      "Acurácia média:85.6405322853703\n",
      "\n",
      "   ---------------------  \n",
      "\n",
      "{'25': [82.65204386245217, 84.01598402789303, 84.68468469065111, 81.78178179968107, 84.16833667334669, 81.15653040283104, 81.71828173019074, 86.18618619215262, 83.48348349541635, 84.36873748689472, 83.3499501733219, 83.01698302889203, 84.58458458458459, 83.78378378975022, 83.06613226452906, 84.44666001399754, 83.31668334050136, 84.38438440228367, 84.98498499095142, 85.67134267342593, 83.25024927007118, 86.01398603184954, 83.78378379571664, 83.38338338934982, 84.76953907815631], '50': [84.54636094696144, 84.91508492103944, 86.48648649245291, 82.38238240028167, 86.37274549098196, 85.8424725763106, 81.91808193594545, 88.58858859455502, 84.38438439631724, 85.67134268537075, 86.14157529794801, 82.91708292899193, 85.78578579175222, 84.58458458458459, 85.17034066941791, 84.94516453619374, 85.71428571428571, 84.28428429621715, 86.48648649245291, 86.67334668144196, 84.44666003776808, 86.81318683105034, 86.28628629225271, 84.78478479075122, 85.87174347502912]}\n",
      "Experimentando com learning rate igual a 100\n",
      "\n",
      "\n",
      "\n",
      "Acurácia média:84.86167007085002\n",
      "\n",
      "   ---------------------  \n",
      "\n",
      "Acurácia média:84.88148885016291\n",
      "\n",
      "   ---------------------  \n",
      "\n",
      "Acurácia média:84.78011261779744\n",
      "\n",
      "   ---------------------  \n",
      "\n",
      "Acurácia média:85.20179058655813\n",
      "\n",
      "   ---------------------  \n",
      "\n",
      "Acurácia média:85.42087178598511\n",
      "\n",
      "   ---------------------  \n",
      "\n",
      "{'100': [83.25024924630064, 84.81518482709383, 85.78578579175222, 83.78378379571664, 86.67334669338678, 83.44965104685942, 83.61638362829264, 87.98798799395442, 85.28528529721815, 84.06813628448991, 85.34396808977023, 83.71628373414724, 84.68468469065111, 84.68468469065111, 85.47094188376754, 83.25024924630064, 85.51448552044002, 84.78478479671764, 85.4854854854855, 86.97394788384678, 84.0478564188226, 86.51348653135005, 85.78578579771865, 84.28428429025071, 86.47294589178357], '25': [82.65204386245217, 84.01598402789303, 84.68468469065111, 81.78178179968107, 84.16833667334669, 81.15653040283104, 81.71828173019074, 86.18618619215262, 83.48348349541635, 84.36873748689472, 83.3499501733219, 83.01698302889203, 84.58458458458459, 83.78378378975022, 83.06613226452906, 84.44666001399754, 83.31668334050136, 84.38438440228367, 84.98498499095142, 85.67134267342593, 83.25024927007118, 86.01398603184954, 83.78378379571664, 83.38338338934982, 84.76953907815631], '50': [84.54636094696144, 84.91508492103944, 86.48648649245291, 82.38238240028167, 86.37274549098196, 85.8424725763106, 81.91808193594545, 88.58858859455502, 84.38438439631724, 85.67134268537075, 86.14157529794801, 82.91708292899193, 85.78578579175222, 84.58458458458459, 85.17034066941791, 84.94516453619374, 85.71428571428571, 84.28428429621715, 86.48648649245291, 86.67334668144196, 84.44666003776808, 86.81318683105034, 86.28628629225271, 84.78478479075122, 85.87174347502912]}\n"
     ]
    }
   ],
   "source": [
    "neuronios_results = {}\n",
    "for neuronio in neuronios:\n",
    "    print('Experimentando com learning rate igual a ' + str(neuronio))\n",
    "    print('\\n\\n')\n",
    "    neuronios_results[str(neuronio)] = []\n",
    "    for it in iterations: \n",
    "        neuronios_results[str(neuronio)].extend(experimentation(neuronio=neuronio,seed=it))\n",
    "    print(neuronios_results)     "
   ]
  },
  {
   "cell_type": "code",
   "execution_count": 10,
   "metadata": {},
   "outputs": [
    {
     "name": "stdout",
     "output_type": "stream",
     "text": [
      "          100         25         50\n",
      "0   83.250249  82.652044  84.546361\n",
      "1   84.815185  84.015984  84.915085\n",
      "2   85.785786  84.684685  86.486486\n",
      "3   83.783784  81.781782  82.382382\n",
      "4   86.673347  84.168337  86.372745\n",
      "5   83.449651  81.156530  85.842473\n",
      "6   83.616384  81.718282  81.918082\n",
      "7   87.987988  86.186186  88.588589\n",
      "8   85.285285  83.483483  84.384384\n",
      "9   84.068136  84.368737  85.671343\n",
      "10  85.343968  83.349950  86.141575\n",
      "11  83.716284  83.016983  82.917083\n",
      "12  84.684685  84.584585  85.785786\n",
      "13  84.684685  83.783784  84.584585\n",
      "14  85.470942  83.066132  85.170341\n",
      "15  83.250249  84.446660  84.945165\n",
      "16  85.514486  83.316683  85.714286\n",
      "17  84.784785  84.384384  84.284284\n",
      "18  85.485485  84.984985  86.486486\n",
      "19  86.973948  85.671343  86.673347\n",
      "20  84.047856  83.250249  84.446660\n",
      "21  86.513487  86.013986  86.813187\n",
      "22  85.785786  83.783784  86.286286\n",
      "23  84.284284  83.383383  84.784785\n",
      "24  86.472946  84.769539  85.871743\n",
      "Média por coluna\n",
      "100    85.029187\n",
      "25     83.840899\n",
      "50     85.280541\n",
      "dtype: float64\n"
     ]
    },
    {
     "data": {
      "image/png": "[encoded data removed]",
      "text/plain": [
       "<Figure size 432x288 with 1 Axes>"
      ]
     },
     "metadata": {},
     "output_type": "display_data"
    },
    {
     "data": {
      "image/png": "[encoded data removed]",
      "text/plain": [
       "<Figure size 432x288 with 1 Axes>"
      ]
     },
     "metadata": {},
     "output_type": "display_data"
    }
   ],
   "source": [
    "print_results(neuronios_results)"
   ]
  },
  {
   "cell_type": "markdown",
   "metadata": {},
   "source": [
    "## Resultados do experimento com neuronios na camada oculta\n",
    "\n",
    "O experimento com neurônios na camada oculta mostra que a variação entre 25-50-100 não muda muito a mediana, ficando em valores próximos a 85.\n",
    "\n",
    "A média de 50 e 100 ficaram em torno de 85 e a variação de 100 ficou acima das outras duas opções. Mostrando que como esperado a acurácia tende a aumentar com aumento do número de neurônios.\n",
    "\n",
    "Devemos nos lembrar no entanto que isso pode levar ao overfitting. Nesse caso, estamos trabalhando com erro de teste justamente para tirar uma conclusão errada nesse sentido.\n",
    "\n"
   ]
  },
  {
   "cell_type": "markdown",
   "metadata": {},
   "source": [
    "## Variando o número de camadas ocultas para cada gradiente"
   ]
  },
  {
   "cell_type": "code",
   "execution_count": 11,
   "metadata": {},
   "outputs": [],
   "source": [
    "import itertools\n",
    "\n",
    "neuroniosXbatch_results = {}\n",
    "for x in itertools.product(batch_sizes, neuronios):    \n",
    "    neuronio = x[1]\n",
    "    batch = x[0]\n",
    "    print('Experimentando com  (batch,neuronio)' + str(x))\n",
    "    print('\\n\\n')\n",
    "    neuroniosXbatch_results[str(x)] = []    \n",
    "    neuroniosXbatch_results[str(x)].extend(experimentation(neuronio=neuronio,batch_size=batch))\n",
    "    print(neuroniosXbatch_results)    "
   ]
  },
  {
   "cell_type": "markdown",
   "metadata": {},
   "source": [
    "print_results(neuroniosXbatch_results)"
   ]
  },
  {
   "cell_type": "markdown",
   "metadata": {},
   "source": [
    "# Mostrando resultado da acurácia durante as epochs"
   ]
  },
  {
   "cell_type": "code",
   "execution_count": 19,
   "metadata": {},
   "outputs": [],
   "source": [
    "X = X.astype('float32')\n",
    "X /= 255\n",
    "\n",
    "y = np_utils.to_categorical(y)"
   ]
  },
  {
   "cell_type": "code",
   "execution_count": 20,
   "metadata": {},
   "outputs": [],
   "source": [
    "model=create_model(learning_rate=0.5,neuronios_ocultos=50)\n",
    "\n",
    "# Fit the model\n",
    "history = model.fit(X, y, validation_split=0.33, epochs=500, batch_size=500, verbose=0)"
   ]
  },
  {
   "cell_type": "code",
   "execution_count": 21,
   "metadata": {},
   "outputs": [
    {
     "data": {
      "image/png": "[encoded data removed]",
      "text/plain": [
       "<Figure size 432x288 with 1 Axes>"
      ]
     },
     "metadata": {},
     "output_type": "display_data"
    }
   ],
   "source": [
    "import matplotlib.pyplot as plt\n",
    "\n",
    "# summarize history for accuracy\n",
    "plt.plot(history.history['acc'])\n",
    "plt.plot(history.history['val_acc'])\n",
    "plt.title('model accuracy')\n",
    "plt.ylabel('accuracy')\n",
    "plt.xlabel('epoch')\n",
    "plt.legend(['train', 'test'], loc='lower right')\n",
    "plt.show()"
   ]
  },
  {
   "cell_type": "code",
   "execution_count": 22,
   "metadata": {},
   "outputs": [
    {
     "data": {
      "text/plain": [
       "0.8927922473395686"
      ]
     },
     "execution_count": 22,
     "metadata": {},
     "output_type": "execute_result"
    }
   ],
   "source": [
    "history.history['val_acc'][-1]"
   ]
  },
  {
   "cell_type": "markdown",
   "metadata": {},
   "source": [
    "É possível perceber que com umas 300 epochs o modelo já aprende completamente o treino e com menos de 100 ele já chega no \"valor final de acurácia\" no teste. Tendo uma pequena variação em torno da acurácia final (0.89)\n",
    "\n",
    "Agora vamos realizar o teste com um learning rate maior\n"
   ]
  },
  {
   "cell_type": "code",
   "execution_count": 23,
   "metadata": {},
   "outputs": [],
   "source": [
    "model=create_model(learning_rate=1.0,neuronios_ocultos=50)\n",
    "\n",
    "# Fit the model\n",
    "history = model.fit(X, y, validation_split=0.33, epochs=500, batch_size=500, verbose=0)"
   ]
  },
  {
   "cell_type": "code",
   "execution_count": 24,
   "metadata": {},
   "outputs": [
    {
     "data": {
      "image/png": "[encoded data removed]",
      "text/plain": [
       "<Figure size 432x288 with 1 Axes>"
      ]
     },
     "metadata": {},
     "output_type": "display_data"
    }
   ],
   "source": [
    "import matplotlib.pyplot as plt\n",
    "\n",
    "# summarize history for accuracy\n",
    "plt.plot(history.history['acc'])\n",
    "plt.plot(history.history['val_acc'])\n",
    "plt.title('model accuracy')\n",
    "plt.ylabel('accuracy')\n",
    "plt.xlabel('epoch')\n",
    "plt.legend(['train', 'test'], loc='lower right')\n",
    "plt.show()"
   ]
  },
  {
   "cell_type": "code",
   "execution_count": 25,
   "metadata": {},
   "outputs": [
    {
     "data": {
      "text/plain": [
       "0.8964264294654943"
      ]
     },
     "execution_count": 25,
     "metadata": {},
     "output_type": "execute_result"
    }
   ],
   "source": [
    "history.history['val_acc'][-1]"
   ]
  },
  {
   "cell_type": "markdown",
   "metadata": {},
   "source": [
    "Com esse learning rate mais alto, podemos perceber que existe uma variação maior durante as epochs, principalmente nas 100 primeiras. \n",
    "Mas o resultado final tende para o mesmo, que é um modelo que decorou o treino e com um resultado proximo de 0.89 no teste."
   ]
  }
 ],
 "metadata": {
  "kernelspec": {
   "display_name": "Python 3",
   "language": "python",
   "name": "python3"
  },
  "language_info": {
   "codemirror_mode": {
    "name": "ipython",
    "version": 3
   },
   "file_extension": ".py",
   "mimetype": "text/x-python",
   "name": "python",
   "nbconvert_exporter": "python",
   "pygments_lexer": "ipython3",
   "version": "3.5.2"
  }
 },
 "nbformat": 4,
 "nbformat_minor": 2
}
